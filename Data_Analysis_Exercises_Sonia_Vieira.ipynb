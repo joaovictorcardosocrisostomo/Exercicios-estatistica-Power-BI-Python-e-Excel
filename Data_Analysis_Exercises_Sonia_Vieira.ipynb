{
  "nbformat": 4,
  "nbformat_minor": 0,
  "metadata": {
    "colab": {
      "provenance": [],
      "authorship_tag": "ABX9TyOqo1KcKwot9UZfCpIk9GIH",
      "include_colab_link": true
    },
    "kernelspec": {
      "name": "python3",
      "display_name": "Python 3"
    },
    "language_info": {
      "name": "python"
    }
  },
  "cells": [
    {
      "cell_type": "markdown",
      "metadata": {
        "id": "view-in-github",
        "colab_type": "text"
      },
      "source": [
        "<a href=\"https://colab.research.google.com/github/joaovictorcardosocrisostomo/Exercicios-estatistica-Power-BI-Python-e-Excel/blob/main/Data_Analysis_Exercises_Sonia_Vieira.ipynb\" target=\"_parent\"><img src=\"https://colab.research.google.com/assets/colab-badge.svg\" alt=\"Open In Colab\"/></a>"
      ]
    },
    {
      "cell_type": "markdown",
      "source": [
        "# Todos os exercícios de estatística básica do livro Sonia Vieira resolvidos utilizando python no Google Colab"
      ],
      "metadata": {
        "id": "a5cKtqmOU9TU"
      }
    },
    {
      "cell_type": "markdown",
      "source": [
        "## Bibliotecas e instruções básicas\n",
        "### 1. Manipulação e organização de dados: pandas\n",
        "Ler tabelas, organizar dados e manipular colunas e linhas.\n",
        "```\n",
        "pd.read_csv(), pd.read_excel()              #ler arquivos\n",
        "df.describe()                               #resumo estatístico\n",
        "df.mean(), df.median(), df.mode()           #média, mediana, moda\n",
        "df.std(), df.var()                          #desvio padrão, variância\n",
        "df.corr(), df.cov()                         #correlação, covariância\n",
        "df.groupby(), df.value_counts()             #agrupamento, frequências\n",
        "```\n",
        "\n",
        "### 2. Estatística descritiva e probabilidade:\n",
        "### numpy\n",
        "\n",
        "Focada em cálculos numéricos rápidos.\n",
        "```\n",
        "np.mean(), np.median()                      #média, mediana\n",
        "np.var(), np.std()                          #variância, desvio padrão\n",
        "np.percentile(), np.quantile()              #quartis, percentis\n",
        "np.histogram()                              #frequências para histogramas\n",
        "np.random.normal()                          #gerar dados simulados\n",
        "```\n",
        "\n",
        "### scipy.stats\n",
        "Para distribuição deprobabilidadee testes estatísticos.\n",
        "```\n",
        "#Medidas\n",
        "stats.describe()                            #resumo geral\n",
        "stats.mode(), stats.gmean(), stats.hmean()\n",
        "\n",
        "#Distribuições\n",
        "stats.norm.pdf(), stats.norm.cdf()          #PDF e CDF normal\n",
        "stats.binom.pmf(), stats.binom.cdf()\n",
        "stats.poisson.pmf(), stats.poisson.cdf()\n",
        "\n",
        "#Testes de hipóteses\n",
        "stats.ttest_1samp(), stats.ttest_ind(), stats.ttest_rel()\n",
        "stats.chi2_contingency()\n",
        "stats.shapiro(), stats.normaltest()\n",
        "stats.pearsonr(), stats.spearmanr()\n",
        "```\n",
        "\n",
        "### 3. Visualização de dados: matplotlib e seaborn\n",
        "Para gráficos e visualização.\n",
        "```\n",
        "plt.hist(), plt.boxplot(), plt.scatter()\n",
        "sns.histplot(), sns.boxplot(), sns.scatterplot()\n",
        "sns.heatmap(df.corr(), annot=True)                #correlação visual\n",
        "```\n",
        "\n",
        "### 4. Regressão e ajuste de modelos simples: statsmodels\n",
        "```\n",
        "x = sm.add_constant(x)                      #adicionar intercepto\n",
        "modelo = sm.OLS(y, x).fit()                 #regressão linear\n",
        "modelo.summary()                            #resumo estatístico\n",
        "```"
      ],
      "metadata": {
        "id": "dgsXUkSM8b-L"
      }
    },
    {
      "cell_type": "code",
      "source": [
        "!pip install pandas, numpy, scipy.stats, matplotlib, seaborn, statsmodels\n",
        "import pandas as pd\n",
        "import numpy as np\n",
        "from scipy import stats\n",
        "import matplotlib.pyplot as plt\n",
        "import seaborn as sns\n",
        "import statsmodels.api as sm"
      ],
      "metadata": {
        "colab": {
          "base_uri": "https://localhost:8080/"
        },
        "id": "pdQzGiG1Wxhx",
        "outputId": "16062ab7-9e4f-4916-84ca-727b09f0b6ab"
      },
      "execution_count": null,
      "outputs": [
        {
          "output_type": "stream",
          "name": "stdout",
          "text": [
            "Requirement already satisfied: Pillow in /usr/local/lib/python3.11/dist-packages (11.3.0)\n",
            "11.3.0\n"
          ]
        }
      ]
    },
    {
      "cell_type": "markdown",
      "source": [
        "## Capítulo 1 - Apresentação de dados em tabelas"
      ],
      "metadata": {
        "id": "bNfZWVotVf0y"
      }
    },
    {
      "cell_type": "markdown",
      "source": [
        "### Exercício 1"
      ],
      "metadata": {
        "id": "PacW9NgeWgae"
      }
    },
    {
      "cell_type": "markdown",
      "source": [
        "### Exercício 2"
      ],
      "metadata": {
        "id": "kqdQJokZWPS_"
      }
    }
  ]
}