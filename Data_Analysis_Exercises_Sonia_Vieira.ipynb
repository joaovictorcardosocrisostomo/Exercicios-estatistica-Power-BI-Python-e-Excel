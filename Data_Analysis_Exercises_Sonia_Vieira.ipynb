{
  "nbformat": 4,
  "nbformat_minor": 0,
  "metadata": {
    "colab": {
      "provenance": [],
      "authorship_tag": "ABX9TyPRFeNbDtsaT0H+qRQQNuvE",
      "include_colab_link": true
    },
    "kernelspec": {
      "name": "python3",
      "display_name": "Python 3"
    },
    "language_info": {
      "name": "python"
    }
  },
  "cells": [
    {
      "cell_type": "markdown",
      "metadata": {
        "id": "view-in-github",
        "colab_type": "text"
      },
      "source": [
        "<a href=\"https://colab.research.google.com/github/joaovictorcardosocrisostomo/Exercicios-estatistica-Power-BI-Python-e-Excel/blob/main/Data_Analysis_Exercises_Sonia_Vieira.ipynb\" target=\"_parent\"><img src=\"https://colab.research.google.com/assets/colab-badge.svg\" alt=\"Open In Colab\"/></a>"
      ]
    },
    {
      "cell_type": "markdown",
      "source": [
        "# Todos os exercícios de estatística básica do livro Sonia Vieira resolvidos utilizando python no Google Colab"
      ],
      "metadata": {
        "id": "a5cKtqmOU9TU"
      }
    },
    {
      "cell_type": "markdown",
      "source": [
        "## Bibliotecas e instruções básicas\n",
        "### 1. Manipulação e organização de dados: pandas\n",
        "Ler tabelas, organizar dados e manipular colunas e linhas.\n",
        "```\n",
        "pd.read_csv(), pd.read_excel()              #ler arquivos\n",
        "df.describe()                               #resumo estatístico\n",
        "df.mean(), df.median(), df.mode()           #média, mediana, moda\n",
        "df.std(), df.var()                          #desvio padrão, variância\n",
        "df.corr(), df.cov()                         #correlação, covariância\n",
        "df.groupby(), df.value_counts()             #agrupamento, frequências\n",
        "```\n",
        "\n",
        "### 2. Estatística descritiva e probabilidade:\n",
        "### numpy\n",
        "\n",
        "Focada em cálculos numéricos rápidos.\n",
        "```\n",
        "np.mean(), np.median()                      #média, mediana\n",
        "np.var(), np.std()                          #variância, desvio padrão\n",
        "np.percentile(), np.quantile()              #quartis, percentis\n",
        "np.histogram()                              #frequências para histogramas\n",
        "np.random.normal()                          #gerar dados simulados\n",
        "```\n",
        "\n",
        "### scipy.stats\n",
        "Para distribuição deprobabilidadee testes estatísticos.\n",
        "```\n",
        "#Medidas\n",
        "stats.describe()                            #resumo geral\n",
        "stats.mode(), stats.gmean(), stats.hmean()\n",
        "\n",
        "#Distribuições\n",
        "stats.norm.pdf(), stats.norm.cdf()          #PDF e CDF normal\n",
        "stats.binom.pmf(), stats.binom.cdf()\n",
        "stats.poisson.pmf(), stats.poisson.cdf()\n",
        "\n",
        "#Testes de hipóteses\n",
        "stats.ttest_1samp(), stats.ttest_ind(), stats.ttest_rel()\n",
        "stats.chi2_contingency()\n",
        "stats.shapiro(), stats.normaltest()\n",
        "stats.pearsonr(), stats.spearmanr()\n",
        "```\n",
        "\n",
        "### 3. Visualização de dados: matplotlib e seaborn\n",
        "Para gráficos e visualização.\n",
        "```\n",
        "plt.hist(), plt.boxplot(), plt.scatter()\n",
        "sns.histplot(), sns.boxplot(), sns.scatterplot()\n",
        "sns.heatmap(df.corr(), annot=True)                #correlação visual\n",
        "```\n",
        "\n",
        "### 4. Regressão e ajuste de modelos simples: statsmodels\n",
        "```\n",
        "x = sm.add_constant(x)                      #adicionar intercepto\n",
        "modelo = sm.OLS(y, x).fit()                 #regressão linear\n",
        "modelo.summary()                            #resumo estatístico\n",
        "```"
      ],
      "metadata": {
        "id": "dgsXUkSM8b-L"
      }
    },
    {
      "cell_type": "code",
      "source": [
        "!pip install pandas, numpy, scipy.stats, matplotlib, seaborn, statsmodels\n",
        "import pandas as pd\n",
        "import numpy as np\n",
        "from scipy import stats\n",
        "import matplotlib.pyplot as plt\n",
        "import seaborn as sns\n",
        "import statsmodels.api as sm"
      ],
      "metadata": {
        "colab": {
          "base_uri": "https://localhost:8080/"
        },
        "id": "pdQzGiG1Wxhx",
        "outputId": "16062ab7-9e4f-4916-84ca-727b09f0b6ab"
      },
      "execution_count": null,
      "outputs": [
        {
          "output_type": "stream",
          "name": "stdout",
          "text": [
            "Requirement already satisfied: Pillow in /usr/local/lib/python3.11/dist-packages (11.3.0)\n",
            "11.3.0\n"
          ]
        }
      ]
    },
    {
      "cell_type": "markdown",
      "source": [
        "## Capítulo 1 - Apresentação de dados em tabelas"
      ],
      "metadata": {
        "id": "bNfZWVotVf0y"
      }
    },
    {
      "cell_type": "markdown",
      "source": [
        "### Exercício 1 - Especifique o tipo das variáveis:\n",
        "####Numéricos contínuos:\n",
        "peso de uma encomenda, resistênvia de materiais, quantidade anual de chuva numa cidade, comprimento de um terreno.\n",
        "\n",
        "####Numéricos discretos:\n",
        "número de canções em um musical, número de caixas de leite vendidas em um dia.\n",
        "\n",
        "####Categorizados nominais:\n",
        "marcas de carros, religião."
      ],
      "metadata": {
        "id": "PacW9NgeWgae"
      }
    },
    {
      "cell_type": "markdown",
      "source": [
        "### Exercício 2 - complete a tabela\n",
        "\n",
        "| Nota do aluno | Frequência | Frequência relativa |\n",
        "|---------------|------------|---------------------|\n",
        "| De 9 a 10 | **16** | 0,08 |\n",
        "| De 8 a 8,9 | 36 | **0,18** |\n",
        "| De 6,5 a 7,9 | 90 | **0,45** |\n",
        "| De 5 a 6,4 | 30 | **0,15** |\n",
        "| Abaixo de 5 | 28 | **0,14** |\n",
        "| Total | 200 | 1,0 |"
      ],
      "metadata": {
        "id": "kqdQJokZWPS_"
      }
    },
    {
      "cell_type": "markdown",
      "source": [
        "###Exercício 3 - Votação para síndico\n",
        "a)"
      ],
      "metadata": {
        "id": "oqQ8ErA2ESky"
      }
    },
    {
      "cell_type": "code",
      "source": [
        "from collections import counter #biblioteca padrão do python\n",
        "votos = [\"Benetti\", \"Benetti\", \"Benetti\", \"Benetti\", \"Benetti\", \"Benetti\", \"Benetti\",\n",
        "         \"Benetti\", \"Benetti\", \"Alice\", \"Alice\", \"Alice\", \"Alice\", \"Alice\", \"Alice\", \"Alice\", \"Alice\",\n",
        "         \"Clóvis\", \"Clóvis\", \"Clóvis\"] #recebe o dicionário com os nomes\n",
        "\n",
        "contagem = counter(votos) #faz a contagem estabelecendo a chave como o nome e a contagem como o número de vezes que o nome aparece\n",
        "#contagem vai receber um dicionário no estilo {\"Clóvis\": 3, \"Benetti\": 9, \"Alice\": 8}\n",
        "for candidato, qtdVotos in contagem.items():\n",
        "  print(f\"{candidato} tem {qtdVotos} votos(s)\")\n",
        "#.items() é um método que retorna pares (chave, valor), mas o nome das variáveis que recebem chave e valor sou eu quem define.\n"
      ],
      "metadata": {
        "id": "7IoO6V1WEl7v",
        "outputId": "cd10f331-6735-48e6-dbb7-9c64b55f2280",
        "colab": {
          "base_uri": "https://localhost:8080/",
          "height": 388
        }
      },
      "execution_count": 1,
      "outputs": [
        {
          "output_type": "error",
          "ename": "ImportError",
          "evalue": "cannot import name 'counter' from 'collections' (/usr/lib/python3.11/collections/__init__.py)",
          "traceback": [
            "\u001b[0;31m---------------------------------------------------------------------------\u001b[0m",
            "\u001b[0;31mImportError\u001b[0m                               Traceback (most recent call last)",
            "\u001b[0;32m/tmp/ipython-input-4124548562.py\u001b[0m in \u001b[0;36m<cell line: 0>\u001b[0;34m()\u001b[0m\n\u001b[0;32m----> 1\u001b[0;31m \u001b[0;32mfrom\u001b[0m \u001b[0mcollections\u001b[0m \u001b[0;32mimport\u001b[0m \u001b[0mcounter\u001b[0m \u001b[0;31m#biblioteca padrão do python\u001b[0m\u001b[0;34m\u001b[0m\u001b[0;34m\u001b[0m\u001b[0m\n\u001b[0m\u001b[1;32m      2\u001b[0m votos = [\"Benetti\", \"Benetti\", \"Benetti\", \"Benetti\", \"Benetti\", \"Benetti\", \"Benetti\", \n\u001b[1;32m      3\u001b[0m          \u001b[0;34m\"Benetti\"\u001b[0m\u001b[0;34m,\u001b[0m \u001b[0;34m\"Benetti\"\u001b[0m\u001b[0;34m,\u001b[0m \u001b[0;34m\"Alice\"\u001b[0m\u001b[0;34m,\u001b[0m \u001b[0;34m\"Alice\"\u001b[0m\u001b[0;34m,\u001b[0m \u001b[0;34m\"Alice\"\u001b[0m\u001b[0;34m,\u001b[0m \u001b[0;34m\"Alice\"\u001b[0m\u001b[0;34m,\u001b[0m \u001b[0;34m\"Alice\"\u001b[0m\u001b[0;34m,\u001b[0m \u001b[0;34m\"Alice\"\u001b[0m\u001b[0;34m,\u001b[0m \u001b[0;34m\"Alice\"\u001b[0m\u001b[0;34m,\u001b[0m \u001b[0;34m\"Alice\"\u001b[0m\u001b[0;34m,\u001b[0m\u001b[0;34m\u001b[0m\u001b[0;34m\u001b[0m\u001b[0m\n\u001b[1;32m      4\u001b[0m          \"Clóvis\", \"Clóvis\", \"Clóvis\"] #recebe o dicionário com os nomes\n\u001b[1;32m      5\u001b[0m \u001b[0;34m\u001b[0m\u001b[0m\n",
            "\u001b[0;31mImportError\u001b[0m: cannot import name 'counter' from 'collections' (/usr/lib/python3.11/collections/__init__.py)",
            "",
            "\u001b[0;31m---------------------------------------------------------------------------\u001b[0;32m\nNOTE: If your import is failing due to a missing package, you can\nmanually install dependencies using either !pip or !apt.\n\nTo view examples of installing some common dependencies, click the\n\"Open Examples\" button below.\n\u001b[0;31m---------------------------------------------------------------------------\u001b[0m\n"
          ],
          "errorDetails": {
            "actions": [
              {
                "action": "open_url",
                "actionText": "Open Examples",
                "url": "/notebooks/snippets/importing_libraries.ipynb"
              }
            ]
          }
        }
      ]
    }
  ]
}