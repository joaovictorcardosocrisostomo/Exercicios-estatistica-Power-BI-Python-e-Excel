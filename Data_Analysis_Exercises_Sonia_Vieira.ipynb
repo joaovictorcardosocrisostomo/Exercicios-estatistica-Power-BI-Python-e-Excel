{
  "nbformat": 4,
  "nbformat_minor": 0,
  "metadata": {
    "colab": {
      "provenance": [],
      "authorship_tag": "ABX9TyM/3s12NUd1Se0C5nIImIcJ",
      "include_colab_link": true
    },
    "kernelspec": {
      "name": "python3",
      "display_name": "Python 3"
    },
    "language_info": {
      "name": "python"
    }
  },
  "cells": [
    {
      "cell_type": "markdown",
      "metadata": {
        "id": "view-in-github",
        "colab_type": "text"
      },
      "source": [
        "<a href=\"https://colab.research.google.com/github/joaovictorcardosocrisostomo/Exercicios-estatistica-Power-BI-Python-e-Excel/blob/main/Data_Analysis_Exercises_Sonia_Vieira.ipynb\" target=\"_parent\"><img src=\"https://colab.research.google.com/assets/colab-badge.svg\" alt=\"Open In Colab\"/></a>"
      ]
    },
    {
      "cell_type": "markdown",
      "source": [
        "# Todos os exercícios de estatística básica do livro Sonia Vieira resolvidos utilizando python no Google Colab"
      ],
      "metadata": {
        "id": "a5cKtqmOU9TU"
      }
    },
    {
      "cell_type": "markdown",
      "source": [
        "## Bibliotecas e instruções básicas\n",
        "### 1. Manipulação e organização de dados: pandas\n",
        "Ler tabelas, organizar dados e manipular colunas e linhas.\n",
        "```\n",
        "pd.read_csv(), pd.read_excel()              #ler arquivos\n",
        "df.describe()                               #resumo estatístico\n",
        "df.mean(), df.median(), df.mode()           #média, mediana, moda\n",
        "df.std(), df.var()                          #desvio padrão, variância\n",
        "df.corr(), df.cov()                         #correlação, covariância\n",
        "df.groupby(), df.value_counts()             #agrupamento, frequências\n",
        "```\n",
        "\n",
        "### 2. Estatística descritiva e probabilidade:\n",
        "### numpy\n",
        "\n",
        "Focada em cálculos numéricos rápidos.\n",
        "```\n",
        "np.mean(), np.median()                      #média, mediana\n",
        "np.var(), np.std()                          #variância, desvio padrão\n",
        "np.percentile(), np.quantile()              #quartis, percentis\n",
        "np.histogram()                              #frequências para histogramas\n",
        "np.random.normal()                          #gerar dados simulados\n",
        "```\n",
        "\n",
        "### scipy.stats\n",
        "Para distribuição deprobabilidadee testes estatísticos.\n",
        "```\n",
        "#Medidas\n",
        "stats.describe()                            #resumo geral\n",
        "stats.mode(), stats.gmean(), stats.hmean()\n",
        "\n",
        "#Distribuições\n",
        "stats.norm.pdf(), stats.norm.cdf()          #PDF e CDF normal\n",
        "stats.binom.pmf(), stats.binom.cdf()\n",
        "stats.poisson.pmf(), stats.poisson.cdf()\n",
        "\n",
        "#Testes de hipóteses\n",
        "stats.ttest_1samp(), stats.ttest_ind(), stats.ttest_rel()\n",
        "stats.chi2_contingency()\n",
        "stats.shapiro(), stats.normaltest()\n",
        "stats.pearsonr(), stats.spearmanr()\n",
        "```\n",
        "\n",
        "### 3. Visualização de dados: matplotlib e seaborn\n",
        "Para gráficos e visualização.\n",
        "```\n",
        "plt.hist(), plt.boxplot(), plt.scatter()\n",
        "sns.histplot(), sns.boxplot(), sns.scatterplot()\n",
        "sns.heatmap(df.corr(), annot=True)                #correlação visual\n",
        "```\n",
        "\n",
        "### 4. Regressão e ajuste de modelos simples: statsmodels\n",
        "```\n",
        "x = sm.add_constant(x)                      #adicionar intercepto\n",
        "modelo = sm.OLS(y, x).fit()                 #regressão linear\n",
        "modelo.summary()                            #resumo estatístico\n",
        "```"
      ],
      "metadata": {
        "id": "dgsXUkSM8b-L"
      }
    },
    {
      "cell_type": "code",
      "source": [
        "!pip install pandas, numpy, scipy.stats, matplotlib, seaborn, statsmodels\n",
        "import pandas as pd\n",
        "import numpy as np\n",
        "from scipy import stats\n",
        "import matplotlib.pyplot as plt\n",
        "import seaborn as sns\n",
        "import statsmodels.api as sm"
      ],
      "metadata": {
        "collapsed": true,
        "id": "8ed0mJ0ZRgeh",
        "outputId": "4121a9d2-bac2-4ccb-f96e-3a1aec3bcd17",
        "colab": {
          "base_uri": "https://localhost:8080/"
        }
      },
      "execution_count": null,
      "outputs": [
        {
          "output_type": "stream",
          "name": "stdout",
          "text": [
            "\u001b[31mERROR: Invalid requirement: 'pandas,': Expected end or semicolon (after name and no valid version specifier)\n",
            "    pandas,\n",
            "          ^\u001b[0m\u001b[31m\n",
            "\u001b[0m"
          ]
        }
      ]
    },
    {
      "cell_type": "markdown",
      "source": [
        "## Capítulo 1 - Apresentação de dados em tabelas"
      ],
      "metadata": {
        "id": "bNfZWVotVf0y"
      }
    },
    {
      "cell_type": "markdown",
      "source": [
        "### Exercício 1 - Especifique o tipo das variáveis:\n",
        "####Numéricos contínuos:\n",
        "peso de uma encomenda, resistênvia de materiais, quantidade anual de chuva numa cidade, comprimento de um terreno.\n",
        "\n",
        "####Numéricos discretos:\n",
        "número de canções em um musical, número de caixas de leite vendidas em um dia.\n",
        "\n",
        "####Categorizados nominais:\n",
        "marcas de carros, religião."
      ],
      "metadata": {
        "id": "PacW9NgeWgae"
      }
    },
    {
      "cell_type": "markdown",
      "source": [
        "### Exercício 2 - complete a tabela\n",
        "\n",
        "| Nota do aluno | Frequência | Frequência relativa |\n",
        "|---------------|------------|---------------------|\n",
        "| De 9 a 10 | **16** | 0,08 |\n",
        "| De 8 a 8,9 | 36 | **0,18** |\n",
        "| De 6,5 a 7,9 | 90 | **0,45** |\n",
        "| De 5 a 6,4 | 30 | **0,15** |\n",
        "| Abaixo de 5 | 28 | **0,14** |\n",
        "| Total | 200 | 1,0 |"
      ],
      "metadata": {
        "id": "kqdQJokZWPS_"
      }
    },
    {
      "cell_type": "code",
      "source": [
        "import pandas as pd\n",
        "import numpy as np\n",
        "\n",
        "#preencher os locais vazios com 0 é uma solução intermediária para substituílos depois como nan\n",
        "df = pd.DataFrame({\n",
        "    \"Nota do aluno\": [\"De 9 a 10\", \"De 8 a 8,9\", \"De 6,5 a 7,9\", \"De 5 a 6,4\", \"Abaixo de 5\", \"Total\"],\n",
        "    \"Frequência\": [0, 36, 90, 30, 28, 200],\n",
        "    \"Frequência relativa\": [0.08, 0, 0, 0, 0, 1.0]\n",
        "})\n",
        "\n",
        "df = df.replace(0, np.nan)\n",
        "\n",
        "#valor da ultima linha da primeira coluna (iloc[-1] recupera onde a coluna acaba e puxa o valor anterior)\n",
        "valorFFrequência = df[\"Frequência\"].iloc[-1]\n",
        "\n",
        "#loop pelas linhas pra aplicar as regras pra cada caso\n",
        "for i in range(len(df)):\n",
        "  c1 = df.at[i, \"Frequência\"]\n",
        "  c2 = df.at[i, \"Frequência relativa\"]\n",
        "\n",
        "  #ambas vazias\n",
        "  if pd.isna(c1) and pd.isna(c2):\n",
        "    df.at[i, \"Frequência\"] = np.nan\n",
        "    df.at[i, \"Frequência relativa\"] = np.nan\n",
        "\n",
        "  #Frequência relativa vazia\n",
        "  elif pd.notna(c1) and pd.isna(c2):\n",
        "    df.at[i, \"Frequência relativa\"] = c1 / valorFFrequência\n",
        "\n",
        "  #Frequência vazia\n",
        "  elif pd.isna(c1) and pd.notna(c2):\n",
        "    df.at[i, \"Frequência\"] = c2 * valorFFrequência\n",
        "\n",
        "print(df)\n",
        "\n"
      ],
      "metadata": {
        "colab": {
          "base_uri": "https://localhost:8080/"
        },
        "id": "fu5Zt0T8qwwo",
        "outputId": "179a579b-d20e-450f-fd01-0ea63293709c"
      },
      "execution_count": null,
      "outputs": [
        {
          "output_type": "stream",
          "name": "stdout",
          "text": [
            "  Nota do aluno  Frequência  Frequência relativa\n",
            "0     De 9 a 10        16.0                 0.08\n",
            "1    De 8 a 8,9        36.0                 0.18\n",
            "2  De 6,5 a 7,9        90.0                 0.45\n",
            "3    De 5 a 6,4        30.0                 0.15\n",
            "4   Abaixo de 5        28.0                 0.14\n",
            "5         Total       200.0                 1.00\n"
          ]
        }
      ]
    },
    {
      "cell_type": "markdown",
      "source": [
        "###Exercício 3 - Votação para síndico\n",
        "a) número de votos"
      ],
      "metadata": {
        "id": "oqQ8ErA2ESky"
      }
    },
    {
      "cell_type": "code",
      "source": [
        "from collections import Counter\n",
        "#biblioteca padrão do python (import é case sensitive, cuidado)\n",
        "votos = [\"Benetti\", \"Benetti\", \"Benetti\", \"Benetti\", \"Benetti\", \"Benetti\", \"Benetti\",\n",
        "         \"Benetti\", \"Benetti\", \"Alice\", \"Alice\", \"Alice\", \"Alice\", \"Alice\", \"Alice\", \"Alice\", \"Alice\",\n",
        "         \"Clóvis\", \"Clóvis\", \"Clóvis\"] #recebe o lista com os nomes\n",
        "\n",
        "contagem = Counter(votos) #faz a contagem estabelecendo a chave como o nome e a contagem como o número de vezes que o nome aparece\n",
        "#contagem vai receber um dicionário no estilo {\"Clóvis\": 3, \"Benetti\": 9, \"Alice\": 8}\n",
        "for candidato, qtdVotos in contagem.items():\n",
        "  print(f\"{candidato} tem {qtdVotos} voto(s)\")\n",
        "#.items() é um método que retorna pares (chave, valor), mas o nome das variáveis que recebem chave e valor sou eu quem define.\n"
      ],
      "metadata": {
        "colab": {
          "base_uri": "https://localhost:8080/"
        },
        "id": "7IoO6V1WEl7v",
        "outputId": "122e78d0-2f5e-46f7-f4f0-e9952d4ee3d6"
      },
      "execution_count": null,
      "outputs": [
        {
          "output_type": "stream",
          "name": "stdout",
          "text": [
            "Benetti tem 9 votos(s)\n",
            "Alice tem 8 votos(s)\n",
            "Clóvis tem 3 votos(s)\n"
          ]
        }
      ]
    },
    {
      "cell_type": "markdown",
      "source": [
        "b) percentuais"
      ],
      "metadata": {
        "id": "T8MICFhvNMt7"
      }
    },
    {
      "cell_type": "code",
      "source": [
        "from collections import Counter\n",
        "#biblioteca padrão do python (import é case sensitive, cuidado)\n",
        "votos = [\"Benetti\", \"Benetti\", \"Benetti\", \"Benetti\", \"Benetti\", \"Benetti\", \"Benetti\",\n",
        "         \"Benetti\", \"Benetti\", \"Alice\", \"Alice\", \"Alice\", \"Alice\", \"Alice\", \"Alice\", \"Alice\", \"Alice\",\n",
        "         \"Clóvis\", \"Clóvis\", \"Clóvis\"]\n",
        "\n",
        "contagem = Counter(votos)\n",
        "for candidato, qtdVotos in contagem.items(): #aqui a gente tá definindo duas variáveis que vão se modificar em loop até os itens acabarem. recuperamos a informação e calculamos a percentagem.\n",
        "  percentagem = (qtdVotos / len(votos)) * 100 #define a variável percentagem fazendo a frequência relativa e multiplicando por 100. \"len(votos)\" mostra a quantidade total de itens dentro da lista \"votos\"\n",
        "  print(f\"{candidato} tem {percentagem}% dos votos\")"
      ],
      "metadata": {
        "id": "TjIruzvtNLxP",
        "outputId": "d4be5847-e173-42b2-98fc-3c409d94fcf4",
        "colab": {
          "base_uri": "https://localhost:8080/"
        }
      },
      "execution_count": null,
      "outputs": [
        {
          "output_type": "stream",
          "name": "stdout",
          "text": [
            "Benetti tem 45.0% dos votos\n",
            "Alice tem 40.0% dos votos\n",
            "Clóvis tem 15.0% dos votos\n"
          ]
        }
      ]
    },
    {
      "cell_type": "markdown",
      "source": [
        "###Exercício 4 - Tabela de distribuição de frequências de tipo sanguíneo\n",
        "1° - pegar as letras soltas e transforma-las em uma lista reconhecida por python.\n",
        "\n",
        "2° - fazer counter.\n",
        "\n",
        "3° - exibir a contagem."
      ],
      "metadata": {
        "id": "8YnuRsNwK6po"
      }
    },
    {
      "cell_type": "code",
      "source": [
        "from collections import Counter\n",
        "import pandas as pd\n",
        "\n",
        "#texto original da questão copiado em forma de string\n",
        "tipos = str(\"B A O A A A B O B A A AB O O A O O A A B A A A O O O A O A O O A O AB O O A AB B B\")\n",
        "\n",
        "#texto original transformado em lista\n",
        "tipoSanguineo = tipos.split() #o argumento dentro do parêntese diz qual separador deve ser usado como referência. ex: separar a cada vírgula.\n",
        "\n",
        "#teste para ver como o código se comporta\n",
        "#print (tipoSanguineo) (funciona como esperado)\n",
        "\n",
        "frequencia = Counter(tipoSanguineo) #faz a contagem para cada tipo\n",
        "\n",
        "listaTipo = []\n",
        "listaFrequencia = [] #armazenam os dados\n",
        "listaPercentagem = []\n",
        "\n",
        "for tipo, freq in frequencia.items():\n",
        "  listaTipo.append(tipo)\n",
        "  listaFrequencia.append(freq) #inclui cada dado dentro da lista feita fora do loop\n",
        "  percentagem = (freq / len(tipoSanguineo) * 100) #calcula dados de percentagem\n",
        "  listaPercentagem.append(percentagem) #persiste os dados de percentagem\n",
        "\n",
        "tabela = pd.DataFrame({\"Tipo sanguíneo\": listaTipo, \"Frequência\": listaFrequencia, \"Percentagem\": listaPercentagem}) #faz uma tabela de frequências usando o pandas\n",
        "print(tabela) #apresenta a tabela"
      ],
      "metadata": {
        "id": "Ez1OvU2sMyWZ",
        "colab": {
          "base_uri": "https://localhost:8080/"
        },
        "outputId": "9fc42162-8709-49de-89ff-d0b47a604c3d"
      },
      "execution_count": null,
      "outputs": [
        {
          "output_type": "stream",
          "name": "stdout",
          "text": [
            "  Tipo sanguíneo  Frequência  Percentagem\n",
            "0              B           6         15.0\n",
            "1              A          16         40.0\n",
            "2              O          15         37.5\n",
            "3             AB           3          7.5\n"
          ]
        }
      ]
    },
    {
      "cell_type": "markdown",
      "source": [
        "### Exercício 5 - número de estudantes de acordo com o grau\n",
        "\n",
        "25% recebeu grau A, 70% recebeu grau B, 5% recebeu grau C. Qual é a frequência de cada categoria?"
      ],
      "metadata": {
        "id": "avlf9ZrN0AE8"
      }
    },
    {
      "cell_type": "code",
      "source": [
        "import pandas as pd\n",
        "import numpy as np\n",
        "\n",
        "df = pd.DataFrame({\n",
        "    \"Categoria\": [\"A\", \"B\", \"C\", \"Total\"],\n",
        "    \"Frequência\": [0, 0, 0, 80],\n",
        "    \"Percentagem(%)\": [25, 75, 5, 100]\n",
        "})\n",
        "\n",
        "df = df.replace(0, np.nan)\n",
        "\n",
        "total = df[\"Frequência\"].iloc[-1]\n",
        "\n",
        "for i in range(len(df)):\n",
        "  c2 = df.at[i, \"Percentagem(%)\"]\n",
        "\n",
        "  df.at[i, \"Frequência\"] = (c2 / 100) * total\n",
        "\n",
        "print(df)"
      ],
      "metadata": {
        "colab": {
          "base_uri": "https://localhost:8080/"
        },
        "id": "2NEOgpd0z-zB",
        "outputId": "2aa6f901-1e72-42bc-bbec-380a64d6cf27"
      },
      "execution_count": null,
      "outputs": [
        {
          "output_type": "stream",
          "name": "stdout",
          "text": [
            "  Categoria  Frequência  Percentagem(%)\n",
            "0         A        20.0              25\n",
            "1         B        60.0              75\n",
            "2         C         4.0               5\n",
            "3     Total        80.0             100\n"
          ]
        }
      ]
    }
  ]
}