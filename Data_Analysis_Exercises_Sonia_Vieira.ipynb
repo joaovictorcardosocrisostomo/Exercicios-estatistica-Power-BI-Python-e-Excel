{
  "nbformat": 4,
  "nbformat_minor": 0,
  "metadata": {
    "colab": {
      "provenance": [],
      "authorship_tag": "ABX9TyMvXi7yMzm0SqcJJRQvfRLk",
      "include_colab_link": true
    },
    "kernelspec": {
      "name": "python3",
      "display_name": "Python 3"
    },
    "language_info": {
      "name": "python"
    }
  },
  "cells": [
    {
      "cell_type": "markdown",
      "metadata": {
        "id": "view-in-github",
        "colab_type": "text"
      },
      "source": [
        "<a href=\"https://colab.research.google.com/github/joaovictorcardosocrisostomo/Exercicios-estatistica-Power-BI-Python-e-Excel/blob/main/Data_Analysis_Exercises_Sonia_Vieira.ipynb\" target=\"_parent\"><img src=\"https://colab.research.google.com/assets/colab-badge.svg\" alt=\"Open In Colab\"/></a>"
      ]
    },
    {
      "cell_type": "markdown",
      "source": [
        "# Todos os exercícios de estatística básica do livro Sonia Vieira resolvidos utilizando python no Google Colab"
      ],
      "metadata": {
        "id": "a5cKtqmOU9TU"
      }
    },
    {
      "cell_type": "markdown",
      "source": [
        "## Unidade 1 -"
      ],
      "metadata": {
        "id": "bNfZWVotVf0y"
      }
    },
    {
      "cell_type": "markdown",
      "source": [
        "### Exercício 1"
      ],
      "metadata": {
        "id": "PacW9NgeWgae"
      }
    },
    {
      "cell_type": "code",
      "source": [
        "!pip install Pillow\n",
        "from PIL import Image\n",
        "\n",
        "print(Image.__version__)\n"
      ],
      "metadata": {
        "id": "pdQzGiG1Wxhx",
        "outputId": "16062ab7-9e4f-4916-84ca-727b09f0b6ab",
        "colab": {
          "base_uri": "https://localhost:8080/"
        }
      },
      "execution_count": 2,
      "outputs": [
        {
          "output_type": "stream",
          "name": "stdout",
          "text": [
            "Requirement already satisfied: Pillow in /usr/local/lib/python3.11/dist-packages (11.3.0)\n",
            "11.3.0\n"
          ]
        }
      ]
    },
    {
      "cell_type": "markdown",
      "source": [
        "### Exercício 2"
      ],
      "metadata": {
        "id": "kqdQJokZWPS_"
      }
    }
  ]
}